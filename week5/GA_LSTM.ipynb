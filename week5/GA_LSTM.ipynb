{
  "nbformat": 4,
  "nbformat_minor": 0,
  "metadata": {
    "colab": {
      "name": "GA-LSTM.ipynb",
      "provenance": [],
      "collapsed_sections": []
    },
    "kernelspec": {
      "name": "python3",
      "display_name": "Python 3"
    },
    "language_info": {
      "name": "python"
    },
    "accelerator": "GPU",
    "gpuClass": "standard"
  },
  "cells": [
    {
      "cell_type": "markdown",
      "source": [
        "### Optimize LSTM model using Genetic algorithm\n",
        "\n",
        "- For most modern machine learning algorithms, their performance largely depends on hyper-parameters. To fully exploit the capacity of models, we need to fine-tune hyper-parameters for each model.\n",
        "\n",
        "- However, training machine learning models, like neural networks is a sophisticated process due to the fragility and complexity of the model. We need to search for a set of hyper-parameters for the model that yields the best performance. Each parameter ranges across a wide spectrum of values. Therefore, there are too many configurations. An optimization method should be implemented to search for optimal parameters without spending vast amounts of time.\n",
        "\n",
        "- In this project, we try to find an optimal set of parameters for the LSTM model to predict airplane passengers in the future.\n",
        "\n",
        "LSTM code Reference: https://github.com/Ferdib-Al-Islam/lstm-time-series-prediction-pytorch"
      ],
      "metadata": {
        "id": "dySgwb9khoUa"
      }
    },
    {
      "cell_type": "markdown",
      "source": [
        "### Fine-tunning\n",
        "\n",
        "Here, we select three commonly used hyperparameters as the gene of the genetic algorithm.\n",
        "\n",
        "(1) Batch size: batch size can affect final results to a certain extent. Because we use the mini-batch gradient descent method to train our model, the size of batch size decides how many samples we randomly select from the dataset.\n",
        "\n",
        "- If the batch size is small, then the randomness in it will make the training unstable.\n",
        "\n",
        "- If the batch size is large, then the noise in it will jeopardize the backpropagation process yielding sub-optimal results.\n",
        "\n",
        "(2) Learning rate: learning rate is the most important hyperparameter for training a neural network. A smaller learning rate will slow the training process, while a larger learning rate will destabilize the training process. Larger learning rates can cause gradient explosion due to the high variance introduced into backpropagation.\n",
        "\n",
        "(3) Optimizer: in this project, we compare three commonly used optimizers. The usage of different optimizers does not have solid theoretical guidance. Therefore, we will empirically select an optimizer."
      ],
      "metadata": {
        "id": "Gheh38-aFDU-"
      }
    },
    {
      "cell_type": "markdown",
      "source": [
        "#### Download Dataset"
      ],
      "metadata": {
        "id": "HMzkUD-BDkfe"
      }
    },
    {
      "cell_type": "code",
      "source": [
        "!wget https://raw.githubusercontent.com/jbrownlee/Datasets/master/airline-passengers.csv"
      ],
      "metadata": {
        "colab": {
          "base_uri": "https://localhost:8080/"
        },
        "id": "nWq5_lTqPAeQ",
        "outputId": "533389d1-0770-437d-9189-42d56c2132aa"
      },
      "execution_count": null,
      "outputs": [
        {
          "output_type": "stream",
          "name": "stdout",
          "text": [
            "--2022-06-14 16:08:26--  https://raw.githubusercontent.com/jbrownlee/Datasets/master/airline-passengers.csv\n",
            "Resolving raw.githubusercontent.com (raw.githubusercontent.com)... 185.199.109.133, 185.199.110.133, 185.199.111.133, ...\n",
            "Connecting to raw.githubusercontent.com (raw.githubusercontent.com)|185.199.109.133|:443... connected.\n",
            "HTTP request sent, awaiting response... 200 OK\n",
            "Length: 2180 (2.1K) [text/plain]\n",
            "Saving to: ‘airline-passengers.csv’\n",
            "\n",
            "\rairline-passengers.   0%[                    ]       0  --.-KB/s               \rairline-passengers. 100%[===================>]   2.13K  --.-KB/s    in 0s      \n",
            "\n",
            "2022-06-14 16:08:26 (42.6 MB/s) - ‘airline-passengers.csv’ saved [2180/2180]\n",
            "\n"
          ]
        }
      ]
    },
    {
      "cell_type": "markdown",
      "source": [
        "#### Import Libraries"
      ],
      "metadata": {
        "id": "zQ2fcIuADpls"
      }
    },
    {
      "cell_type": "code",
      "source": [
        "import numpy as np\n",
        "import matplotlib.pyplot as plt\n",
        "import pandas as pd\n",
        "\n",
        "import copy\n",
        "import itertools\n",
        "from typing import List, Tuple, Dict\n",
        "\n",
        "import torch\n",
        "import torch.nn as nn\n",
        "from torch.utils.data import Dataset, DataLoader\n",
        "from torch.functional import Tensor\n",
        "\n",
        "from sklearn.preprocessing import MinMaxScaler"
      ],
      "metadata": {
        "id": "po66PkYMPTLk"
      },
      "execution_count": null,
      "outputs": []
    },
    {
      "cell_type": "markdown",
      "source": [
        "#### Dataset visulization"
      ],
      "metadata": {
        "id": "YtOfqZnCPbRf"
      }
    },
    {
      "cell_type": "code",
      "source": [
        "dataset = pd.read_csv('airline-passengers.csv')\n",
        "dataset = dataset.iloc[:,1:2].values\n",
        "\n",
        "plt.plot(dataset, label = 'Airline Passengers Data')\n",
        "plt.show()"
      ],
      "metadata": {
        "colab": {
          "base_uri": "https://localhost:8080/",
          "height": 265
        },
        "id": "YHGjuvXKPYjE",
        "outputId": "044a35bd-18de-4d6b-c444-1f40d9f25be5"
      },
      "execution_count": null,
      "outputs": [
        {
          "output_type": "display_data",
          "data": {
            "text/plain": [
              "<Figure size 432x288 with 1 Axes>"
            ],
            "image/png": "[encoded data removed]"
          },
          "metadata": {
            "needs_background": "light"
          }
        }
      ]
    },
    {
      "cell_type": "markdown",
      "source": [
        "#### Set Fixed Hyper-parameters"
      ],
      "metadata": {
        "id": "adezPsX6SCIV"
      }
    },
    {
      "cell_type": "code",
      "source": [
        "# Dataset settings\n",
        "val_ratio = 0.8\n",
        "seq_length = 4\n",
        "\n",
        "# Model settings\n",
        "num_epochs = 1001\n",
        "\n",
        "input_size = 1\n",
        "hidden_size = 2\n",
        "num_layers = 1\n",
        "\n",
        "num_classes = 1\n",
        "device = 'cuda'"
      ],
      "metadata": {
        "id": "3oYn-057SEPC"
      },
      "execution_count": null,
      "outputs": []
    },
    {
      "cell_type": "markdown",
      "source": [
        "#### Data Loading"
      ],
      "metadata": {
        "id": "MgliHyP8PwDB"
      }
    },
    {
      "cell_type": "code",
      "source": [
        "# Define sliding window function\n",
        "def sliding_windows(data, seq_length):\n",
        "    x = []\n",
        "    y = []\n",
        "\n",
        "    for i in range(len(data) - seq_length - 1):\n",
        "        _x = data[i: (i+seq_length)]\n",
        "        _y = data[i+seq_length]\n",
        "        x.append(_x)\n",
        "        y.append(_y)\n",
        "\n",
        "    return np.array(x), np.array(y)"
      ],
      "metadata": {
        "id": "C1flxlAGPkdU"
      },
      "execution_count": null,
      "outputs": []
    },
    {
      "cell_type": "code",
      "source": [
        "# Data normalization\n",
        "sc = MinMaxScaler()\n",
        "dataset_transformed = sc.fit_transform(dataset)\n",
        "\n",
        "# Data slice generation\n",
        "x, y = sliding_windows(dataset_transformed, seq_length)\n",
        "\n",
        "data_x = torch.Tensor(np.array(x))\n",
        "data_y = torch.Tensor(np.array(y))\n",
        "\n",
        "# # Data division\n",
        "# train_size = int(len(y) * val_ratio)\n",
        "# test_size = len(y) - train_size\n",
        "\n",
        "# train_x = torch.Tensor(np.array(x[0: train_size]))\n",
        "# train_y = torch.Tensor(np.array(y[0: train_size]))\n",
        "\n",
        "# test_x = torch.Tensor(np.array(x[train_size: len(x)]))\n",
        "# test_y = torch.Tensor(np.array(y[train_size: len(y)]))"
      ],
      "metadata": {
        "id": "Qa92gK_cSPbo"
      },
      "execution_count": null,
      "outputs": []
    },
    {
      "cell_type": "code",
      "source": [
        "# Define dataset class\n",
        "class AirplanePassengers(Dataset):\n",
        "    def __init__(self, data, label):\n",
        "      self.data = data\n",
        "      self.label = label\n",
        "    \n",
        "    def __getitem__(self, index):\n",
        "      return self.data[index], self.label[index]\n",
        "\n",
        "    def __len__(self):\n",
        "        return self.data.shape[0]\n",
        "\n",
        "def get_dataset(x: Tensor, y: Tensor):\n",
        "    return AirplanePassengers(x, y)\n",
        "\n",
        "def get_dataloader(dataset: Dataset, batch_size: int, mode: str):\n",
        "    shuffle = True if mode == 'train' else False\n",
        "    dataloader = DataLoader(dataset, batch_size=batch_size, shuffle=shuffle)\n",
        "\n",
        "    return dataloader"
      ],
      "metadata": {
        "id": "7rBPla8qUP1k"
      },
      "execution_count": null,
      "outputs": []
    },
    {
      "cell_type": "code",
      "source": [
        "# Load dataset\n",
        "dataset = get_dataset(data_x, data_y)\n",
        "\n",
        "train_size = int(len(data_y) * val_ratio)\n",
        "test_size = len(data_y) - train_size\n",
        "train_set, test_set = torch.utils.data.random_split(dataset, [train_size, test_size])\n",
        "\n",
        "# Build dataloader\n",
        "def build_dataloader(train_set: Dataset, test_set: Dataset, batch_size: int):\n",
        "    train_loader = get_dataloader(train_set, batch_size, 'train')\n",
        "    test_loader = get_dataloader(test_set, batch_size, 'test')\n",
        "    return train_loader, test_loader"
      ],
      "metadata": {
        "id": "wwlx9cyfV6Io"
      },
      "execution_count": null,
      "outputs": []
    },
    {
      "cell_type": "markdown",
      "source": [
        "#### Build LSTM Model"
      ],
      "metadata": {
        "id": "1Iyi6z7gP88O"
      }
    },
    {
      "cell_type": "code",
      "source": [
        "class LSTM(nn.Module):\n",
        "\n",
        "    def __init__(self, num_classes, input_size, hidden_size, num_layers):\n",
        "        super(LSTM, self).__init__()\n",
        "        \n",
        "        self.num_classes = num_classes\n",
        "        self.num_layers = num_layers\n",
        "        self.input_size = input_size\n",
        "        self.hidden_size = hidden_size\n",
        "        self.seq_length = seq_length\n",
        "        \n",
        "        self.lstm = nn.LSTM(input_size=input_size, hidden_size=hidden_size,\n",
        "                            num_layers=num_layers, batch_first=True)\n",
        "        \n",
        "        self.fc = nn.Linear(hidden_size, num_classes)\n",
        "\n",
        "    def forward(self, x):\n",
        "        h_0 = torch.zeros(self.num_layers, x.size(0), self.hidden_size, device=x.device)\n",
        "        c_0 = torch.zeros(self.num_layers, x.size(0), self.hidden_size, device=x.device)\n",
        "        \n",
        "        # Propagate input through LSTM\n",
        "        ula, (h_out, _) = self.lstm(x, (h_0, c_0))\n",
        "        \n",
        "        h_out = h_out.view(-1, self.hidden_size)\n",
        "\n",
        "        out = self.fc(h_out)\n",
        "        \n",
        "        return out"
      ],
      "metadata": {
        "id": "ip11HcOpP7IM"
      },
      "execution_count": null,
      "outputs": []
    },
    {
      "cell_type": "markdown",
      "source": [
        "#### Training Process"
      ],
      "metadata": {
        "id": "MVRn58tMQGGa"
      }
    },
    {
      "cell_type": "code",
      "source": [
        "def train(input_size,\n",
        "          hidden_size,\n",
        "          num_layers,\n",
        "          num_classes,\n",
        "          device,\n",
        "          num_epochs,\n",
        "          train_loader,\n",
        "          learning_rate,\n",
        "          optimizer):\n",
        "    model = LSTM(num_classes, input_size, hidden_size, num_layers).to(device)\n",
        "\n",
        "    # Mean-squared error for regression\n",
        "    criterion = torch.nn.MSELoss()\n",
        "        \n",
        "    if optimizer == 'adam':\n",
        "        optimizer = torch.optim.Adam(model.parameters(), lr=learning_rate)\n",
        "    elif optimizer == 'sgd':\n",
        "        optimizer = torch.optim.SGD(model.parameters(), lr=learning_rate)\n",
        "    elif optimizer == 'rmsprop':\n",
        "        optimizer = torch.optim.RMSprop(model.parameters(), lr=learning_rate)\n",
        "    else:\n",
        "        raise Exception('Wrong optimizer')\n",
        "    \n",
        "    epoch_list = []\n",
        "    train_loss_list = []\n",
        "\n",
        "    # Train the model\n",
        "    for epoch in range(num_epochs):\n",
        "        total_loss = 0\n",
        "        total_correct = 0\n",
        "\n",
        "        for features, labels in train_loader:\n",
        "            features, labels = features.to(device), labels.to(device)\n",
        "\n",
        "            pred = model(features)\n",
        "            loss = criterion(pred, labels)\n",
        "\n",
        "            optimizer.zero_grad()\n",
        "            loss.backward()\n",
        "            optimizer.step()\n",
        "\n",
        "            total_loss += loss.item()\n",
        "\n",
        "        train_loss_list.append(total_loss / len(train_loader))\n",
        "        epoch_list.append(epoch)\n",
        "\n",
        "        # if epoch % 200 == 0:\n",
        "        #     print(f'Epoch {epoch+0:03}: | Loss: {total_loss/len(train_loader):.5f}')\n",
        "      \n",
        "    return model"
      ],
      "metadata": {
        "id": "xm3JhRYXQET0"
      },
      "execution_count": null,
      "outputs": []
    },
    {
      "cell_type": "code",
      "source": [
        "# # Plots\n",
        "# plt.figure(1)\n",
        "# plt.plot(epoch_list, train_loss_list, label=\"Loss\")\n",
        "# plt.xlabel('Epoch')\n",
        "# plt.ylabel('Loss value')\n",
        "# plt.title('Training Loss')\n",
        "# plt.legend()"
      ],
      "metadata": {
        "id": "CFvTY6t0bpoo"
      },
      "execution_count": null,
      "outputs": []
    },
    {
      "cell_type": "markdown",
      "source": [
        "#### Testing Process"
      ],
      "metadata": {
        "id": "I-HI9tK_QOX2"
      }
    },
    {
      "cell_type": "code",
      "source": [
        "def test(model, test_loader, device):\n",
        "    total_test_loss = 0\n",
        "\n",
        "    # Mean-squared error for regression\n",
        "    criterion = torch.nn.MSELoss()\n",
        "\n",
        "    model.eval()\n",
        "    with torch.no_grad():\n",
        "        for features, labels in test_loader:\n",
        "            features = features.to(device)\n",
        "            labels = labels.to(device)\n",
        "\n",
        "            pred_test = model(features)\n",
        "            loss = criterion(pred_test, labels)\n",
        "\n",
        "            total_test_loss += loss.item()\n",
        "\n",
        "    # Print testing results\n",
        "    output_steam = f'Testing Loss: {total_test_loss/len(test_loader):.5f}'\n",
        "    print(output_steam)\n",
        "\n",
        "    return round(total_test_loss/len(test_loader), 5)"
      ],
      "metadata": {
        "id": "vsgJcJeNbv5B"
      },
      "execution_count": null,
      "outputs": []
    },
    {
      "cell_type": "code",
      "source": [
        "# model.eval()\n",
        "# feature, label = next(iter(test_loader))\n",
        "# feature = feature.to(device)\n",
        "# label = label.to(device)\n",
        "\n",
        "# test_predict = model(feature)\n",
        "\n",
        "# data_predict = test_predict.data.cpu().numpy()\n",
        "# label_test = label.data.cpu().numpy()\n",
        "\n",
        "# data_predict = sc.inverse_transform(data_predict)\n",
        "# label_test = sc.inverse_transform(label_test)\n",
        "\n",
        "# plt.axvline(x=train_size, c='r', linestyle='--')\n",
        "\n",
        "# plt.plot(label_test)\n",
        "# plt.plot(data_predict)\n",
        "# plt.suptitle('Time-Series Prediction')\n",
        "# plt.show()"
      ],
      "metadata": {
        "id": "oMp-DqI2QK6f"
      },
      "execution_count": null,
      "outputs": []
    },
    {
      "cell_type": "markdown",
      "source": [
        "#### Define Fitness Function\n",
        "\n",
        "(1) Define DataLoader with a selected batch size.\n",
        "\n",
        "(2) Train a new model based on the selected hyper-parameters.\n",
        "\n",
        "(3) Test the trained model on test set and return the average test loss as fitness scores."
      ],
      "metadata": {
        "id": "DqDB66bfECvm"
      }
    },
    {
      "cell_type": "code",
      "source": [
        "# Fitness function\n",
        "def lstm_fitness_func(chromosome: np.array,\n",
        "                      batch_size: List,\n",
        "                      learning_rate: List,\n",
        "                      optimizer: List) -> float:\n",
        "    \"\"\"\n",
        "    Fitness: An evaluator of each chromosome.\n",
        "    The fitness function return a fitness score to each chromosome.\n",
        "    \"\"\"\n",
        "    print('Hyper-parameters: ', batch_size[chromosome[0]], learning_rate[chromosome[1]], 'adam' if optimizer[chromosome[2]] == 1 \\\n",
        "          else 'sgd' if optimizer[chromosome[2]] == 2 else 'rmsprop')\n",
        "\n",
        "    train_loader, test_loader = build_dataloader(train_set, test_set, batch_size[chromosome[0]])\n",
        "\n",
        "    model = train(input_size,\n",
        "                  hidden_size,\n",
        "                  num_layers,\n",
        "                  num_classes,\n",
        "                  device,\n",
        "                  num_epochs,\n",
        "                  train_loader,\n",
        "                  learning_rate[chromosome[1]],\n",
        "                  'adam' if optimizer[chromosome[2]] == 1 else 'sgd' if optimizer[chromosome[2]] == 2 else 'rmsprop')\n",
        "                  # optimizer[chromosome[2]])\n",
        "    \n",
        "    results = test(model, test_loader, device)\n",
        "\n",
        "    return results"
      ],
      "metadata": {
        "id": "KWGvePS0oanF"
      },
      "execution_count": null,
      "outputs": []
    },
    {
      "cell_type": "markdown",
      "source": [
        "#### Select Parents from the Population"
      ],
      "metadata": {
        "id": "Zojjw6lVHn3x"
      }
    },
    {
      "cell_type": "code",
      "source": [
        "def roulette_wheel_prob(population: np.array, beta: float) -> np.array:\n",
        "    \"\"\"\n",
        "    Calculating probability for roulette wheel selection.\n",
        "    \"\"\"\n",
        "    score = []\n",
        "    for i in range(len(population)):\n",
        "        score.append(population[i]['score'])\n",
        "\n",
        "    # (N,)\n",
        "    score = np.array(score)\n",
        "    avg_score = np.mean(score)\n",
        "    if avg_score != 0:\n",
        "        score = score / avg_score\n",
        "\n",
        "    # (N,)\n",
        "    return np.exp(-beta * score)"
      ],
      "metadata": {
        "id": "Jv-88tJqoX3i"
      },
      "execution_count": null,
      "outputs": []
    },
    {
      "cell_type": "code",
      "source": [
        "def roulette_wheel_selection(prob: np.array) -> np.array:\n",
        "    \"\"\"\n",
        "    Parents: two selected chromosome for generating the next generation.\n",
        "    The chromosome with higher fitness score has bigger chance being selected for reproduction.\n",
        "    We take the cumsum of probabilities and select the first parent whose cumsum is greater than random number.\n",
        "    \"\"\"\n",
        "\n",
        "    # (N,)\n",
        "    c = np.cumsum(prob)\n",
        "    r = sum(prob) * np.random.rand()\n",
        "    # (M,)\n",
        "    ind = np.argwhere(r <= c)\n",
        "\n",
        "    return ind[0][0]"
      ],
      "metadata": {
        "id": "6W3q60TmoWPZ"
      },
      "execution_count": null,
      "outputs": []
    },
    {
      "cell_type": "markdown",
      "source": [
        "#### Crossover"
      ],
      "metadata": {
        "id": "P1RgkqP3HroY"
      }
    },
    {
      "cell_type": "code",
      "source": [
        "def one_point_crossover(parent1: np.array, parent2: np.array) -> Tuple:\n",
        "    \"\"\"\n",
        "    Introduce randomness into the population by swapping parents' chromosomes.\n",
        "    Randomly select a crossover point for a pair of parents and exchange the genes of parents.\n",
        "    \"\"\"\n",
        "    child1 = copy.deepcopy(parent1)\n",
        "    child2 = copy.deepcopy(parent2)\n",
        "\n",
        "    # One-point crossover\n",
        "    one_point_index = np.random.randint(1, len(parent1['gene'] - 1))\n",
        "\n",
        "    child1['gene'] = np.concatenate((parent1['gene'][: one_point_index], parent2['gene'][one_point_index:]))\n",
        "    child2['gene'] = np.concatenate((parent2['gene'][: one_point_index], parent1['gene'][one_point_index:]))\n",
        "\n",
        "    return child1, child2"
      ],
      "metadata": {
        "id": "oEfEcy5qoT6W"
      },
      "execution_count": null,
      "outputs": []
    },
    {
      "cell_type": "markdown",
      "source": [
        "#### Mutation"
      ],
      "metadata": {
        "id": "YT7GtzWoH5Oz"
      }
    },
    {
      "cell_type": "code",
      "source": [
        "def multinominal_mutation(chromosome: np.array, mu: float) -> np.array:\n",
        "    \"\"\"\n",
        "    The genes in a new formed offspring subject to a mutation with a low probability.\n",
        "    Mutation maintains diversity within a population preventing the population from early convergence.\n",
        "\n",
        "    Args:\n",
        "        chromosome: Child chromosome.\n",
        "        mu: Mutation rate. % of gene to be modified.\n",
        "    \"\"\"\n",
        "    y = copy.deepcopy(chromosome)\n",
        "    flag = np.random.rand(*chromosome['gene'].shape) <= mu\n",
        "    ind = np.argwhere(flag)\n",
        "\n",
        "    for i in ind[:, 0]:\n",
        "        if y['gene'][i] == 0:\n",
        "            y['gene'][i] = np.random.choice([1,2], 1, replace=False)\n",
        "        elif y['gene'][i] == 1:\n",
        "            y['gene'][i] = np.random.choice([0,2], 1, replace=False)\n",
        "        elif y['gene'][i] == 2:\n",
        "            y['gene'][i] = np.random.choice([0,1], 1, replace=False)\n",
        "\n",
        "    return y"
      ],
      "metadata": {
        "id": "2nGios0OnAGE"
      },
      "execution_count": null,
      "outputs": []
    },
    {
      "cell_type": "markdown",
      "source": [
        "#### Sort Chromosomes"
      ],
      "metadata": {
        "id": "DY0JDmqRHvl7"
      }
    },
    {
      "cell_type": "code",
      "source": [
        "def sort_chromosome(population: np.array, population_size: int) -> np.array:\n",
        "    \"\"\"\n",
        "    Bubble sorting the population and offspring in every iteration to get best fit individuals at top.\n",
        "    Add new formed offsprings to the population.\n",
        "    The chromosomes with lower fitness scores are deleted from the population as the offspring formed.\n",
        "    \"\"\"\n",
        "    n = len(population)\n",
        "\n",
        "    for i in range(n - 1):\n",
        "        for j in range(0, n - i - 1):\n",
        "            if population[j]['score'] > population[j + 1]['score']:\n",
        "                population[j], population[j + 1] = population[j + 1], population[j]\n",
        "\n",
        "    return dict(itertools.islice(population.items(), population_size))"
      ],
      "metadata": {
        "id": "BPIWRs70mdp4"
      },
      "execution_count": null,
      "outputs": []
    },
    {
      "cell_type": "markdown",
      "source": [
        "#### Initial Population"
      ],
      "metadata": {
        "id": "LwcccZplHz0c"
      }
    },
    {
      "cell_type": "code",
      "source": [
        "def lstm_initialization(population_size: int,\n",
        "                        gene_num: int,\n",
        "                        batch_size: List,\n",
        "                        learning_rate: List,\n",
        "                        optimizer: List) -> Dict:\n",
        "    \"\"\"\n",
        "    Gene: an element of the problem.\n",
        "    Individual (chromosome): a solution that satisfies restrictions.\n",
        "    Population: a set of possible chromosomes.\n",
        "    \"\"\"\n",
        "\n",
        "    population = {}\n",
        "    # Each individual has position(chromosomes) and cost\n",
        "    for i in range(population_size):\n",
        "        population[i] = {'gene': None, 'score': None}\n",
        "\n",
        "    # First generation\n",
        "    for i in range(population_size):\n",
        "        # Randomly initialize chromosomes\n",
        "        population[i]['gene'] = np.random.randint(3, size=gene_num)\n",
        "\n",
        "        # Calculate fitness scores\n",
        "        population[i]['score'] = lstm_fitness_func(population[i]['gene'], batch_size, learning_rate, optimizer)\n",
        "\n",
        "    return population"
      ],
      "metadata": {
        "id": "2WCCiEewli9a"
      },
      "execution_count": null,
      "outputs": []
    },
    {
      "cell_type": "markdown",
      "source": [
        "#### Evaluation"
      ],
      "metadata": {
        "id": "26SPKP_PH7m3"
      }
    },
    {
      "cell_type": "code",
      "source": [
        "def lstm_evaluation(population_size: int,\n",
        "                    gene_num: int,\n",
        "                    epoch: int,\n",
        "                    beta: float,\n",
        "                    mu: float,\n",
        "                    batch_size: List,\n",
        "                    learning_rate: List,\n",
        "                    optimizer: List):\n",
        "    population = lstm_initialization(population_size,\n",
        "                                     gene_num,\n",
        "                                     batch_size,\n",
        "                                     learning_rate,\n",
        "                                     optimizer)\n",
        "\n",
        "    best_score_list = []\n",
        "    best_chromosome_list = []\n",
        "\n",
        "    # Main loop\n",
        "    for iteration in range(epoch):\n",
        "        prob = roulette_wheel_prob(population, beta)\n",
        "\n",
        "        for _ in range(population_size // 2):\n",
        "            # Roulette wheel selection\n",
        "            p1 = population[roulette_wheel_selection(prob)]\n",
        "            p2 = population[roulette_wheel_selection(prob)]\n",
        "\n",
        "            # crossover two parents\n",
        "            c1, c2 = one_point_crossover(p1, p2)\n",
        "\n",
        "            # Perform mutation\n",
        "            c1 = multinominal_mutation(c1, mu)\n",
        "            c2 = multinominal_mutation(c2, mu)\n",
        "\n",
        "            score_c1 = lstm_fitness_func(c1['gene'], batch_size, learning_rate, optimizer)\n",
        "            score_c2 = lstm_fitness_func(c2['gene'], batch_size, learning_rate, optimizer)\n",
        "\n",
        "            c1['score'] = score_c1\n",
        "            c2['score'] = score_c2\n",
        "\n",
        "            # best_score = max(score_c1, score_c2)\n",
        "            # best_chromosome = copy.deepcopy(c1) if score_c1 > score_c2 else copy.deepcopy(c2)\n",
        "\n",
        "            # Merge, Sort and Select\n",
        "            population[len(population)] = c1\n",
        "            population[len(population)] = c2\n",
        "\n",
        "        # The algorithm is terminated when offspring are similar to the previous generation (converged).\n",
        "        population = sort_chromosome(population, population_size)\n",
        "\n",
        "        # Store best cost\n",
        "        # best_score_list.append(best_score)\n",
        "        # best_chromosome_list.append(best_chromosome)\n",
        "        best_score_list.append(population[0]['score'])\n",
        "        best_chromosome_list.append(population[0]['gene'])\n",
        "\n",
        "        # Show generation information\n",
        "        print('Iteration {}: Best Cost = {}: Best Solution = {}'.format(iteration,\n",
        "                                                                        best_score_list[iteration],\n",
        "                                                                        best_chromosome_list[iteration]))\n",
        "\n",
        "    return best_score_list, best_chromosome_list\n"
      ],
      "metadata": {
        "id": "Ve4VfCJblLyX"
      },
      "execution_count": null,
      "outputs": []
    },
    {
      "cell_type": "markdown",
      "source": [
        "#### Results Evaluation"
      ],
      "metadata": {
        "id": "gJrDAUoOIVRQ"
      }
    },
    {
      "cell_type": "code",
      "source": [
        "# Parameters for building chromosomes\n",
        "batch_size = [32, 64, 128]\n",
        "learning_rate = [0.1, 0.01, 0.001]\n",
        "optimizer = [1, 2, 3]\n",
        "\n",
        "best_cost, best_solution = lstm_evaluation(population_size=20,\n",
        "                                           gene_num=3,\n",
        "                                           epoch=11,\n",
        "                                           beta=1.0,\n",
        "                                           mu=0.1,\n",
        "                                           batch_size=batch_size,\n",
        "                                           learning_rate=learning_rate,\n",
        "                                           optimizer=optimizer)\n",
        "\n",
        "plt.plot(best_cost)\n",
        "plt.xlim(0, 11)\n",
        "plt.xlabel('Generations')\n",
        "plt.ylabel('Best Cost')\n",
        "plt.title('Genetic Algorithm')\n",
        "plt.grid(True)\n",
        "plt.show()"
      ],
      "metadata": {
        "colab": {
          "base_uri": "https://localhost:8080/",
          "height": 1000
        },
        "id": "iy7He5Rxh1wu",
        "outputId": "28dbbaee-70b6-4f6a-ca73-821593862976"
      },
      "execution_count": null,
      "outputs": [
        {
          "output_type": "stream",
          "name": "stdout",
          "text": [
            "64 0.001 rmsprop\n",
            "Testing Loss: 0.00812\n",
            "64 0.01 rmsprop\n",
            "Testing Loss: 0.00538\n",
            "64 0.01 adam\n",
            "Testing Loss: 0.00412\n",
            "64 0.001 adam\n",
            "Testing Loss: 0.00810\n",
            "64 0.01 sgd\n",
            "Testing Loss: 0.02079\n",
            "64 0.01 sgd\n",
            "Testing Loss: 0.04502\n",
            "128 0.01 adam\n",
            "Testing Loss: 0.00390\n",
            "32 0.001 sgd\n",
            "Testing Loss: 0.05978\n",
            "32 0.001 rmsprop\n",
            "Testing Loss: 0.00414\n",
            "32 0.001 rmsprop\n",
            "Testing Loss: 0.00430\n",
            "128 0.01 sgd\n",
            "Testing Loss: 0.02627\n",
            "64 0.001 sgd\n",
            "Testing Loss: 0.05987\n",
            "64 0.001 adam\n",
            "Testing Loss: 0.00690\n",
            "128 0.01 rmsprop\n",
            "Testing Loss: 0.00464\n",
            "128 0.1 sgd\n",
            "Testing Loss: 0.01171\n",
            "64 0.01 rmsprop\n",
            "Testing Loss: 0.00554\n",
            "64 0.01 adam\n",
            "Testing Loss: 0.00544\n",
            "128 0.1 adam\n",
            "Testing Loss: 0.00438\n",
            "128 0.1 rmsprop\n",
            "Testing Loss: 0.00974\n",
            "128 0.1 adam\n",
            "Testing Loss: 0.00403\n",
            "128 0.01 rmsprop\n",
            "Testing Loss: 0.00535\n",
            "64 0.01 sgd\n",
            "Testing Loss: 0.05314\n",
            "64 0.001 adam\n",
            "Testing Loss: 0.00911\n",
            "64 0.001 rmsprop\n",
            "Testing Loss: 0.00635\n",
            "128 0.01 adam\n",
            "Testing Loss: 0.00370\n",
            "128 0.01 adam\n",
            "Testing Loss: 0.00419\n",
            "64 0.001 adam\n",
            "Testing Loss: 0.00943\n",
            "128 0.1 adam\n",
            "Testing Loss: 0.00441\n",
            "128 0.01 rmsprop\n",
            "Testing Loss: 0.00490\n",
            "64 0.1 adam\n",
            "Testing Loss: 0.00458\n",
            "64 0.001 rmsprop\n",
            "Testing Loss: 0.00550\n",
            "32 0.001 adam\n",
            "Testing Loss: 0.00374\n",
            "64 0.01 adam\n",
            "Testing Loss: 0.00466\n",
            "64 0.001 rmsprop\n",
            "Testing Loss: 0.00622\n",
            "32 0.01 adam\n",
            "Testing Loss: 0.00512\n",
            "128 0.01 adam\n",
            "Testing Loss: 0.00512\n",
            "32 0.001 rmsprop\n",
            "Testing Loss: 0.00669\n",
            "32 0.001 rmsprop\n",
            "Testing Loss: 0.00659\n",
            "128 0.1 adam\n",
            "Testing Loss: 0.00473\n",
            "128 0.1 adam\n",
            "Testing Loss: 0.00424\n",
            "Iteration 0: Best Cost = 0.0037: Best Solution = [2 1 0]\n",
            "128 0.01 adam\n",
            "Testing Loss: 0.00410\n",
            "32 0.01 rmsprop\n",
            "Testing Loss: 0.00503\n",
            "128 0.1 adam\n",
            "Testing Loss: 0.00416\n",
            "128 0.01 adam\n",
            "Testing Loss: 0.00427\n",
            "128 0.001 rmsprop\n",
            "Testing Loss: 0.00561\n",
            "32 0.01 rmsprop\n",
            "Testing Loss: 0.00533\n",
            "32 0.01 adam\n",
            "Testing Loss: 0.00463\n",
            "64 0.001 rmsprop\n",
            "Testing Loss: 0.00447\n",
            "128 0.01 adam\n",
            "Testing Loss: 0.00417\n",
            "128 0.01 sgd\n",
            "Testing Loss: 0.04730\n",
            "128 0.01 adam\n",
            "Testing Loss: 0.00380\n",
            "128 0.01 adam\n",
            "Testing Loss: 0.00402\n",
            "128 0.01 rmsprop\n",
            "Testing Loss: 0.00527\n",
            "64 0.1 adam\n",
            "Testing Loss: 0.00613\n",
            "64 0.01 adam\n",
            "Testing Loss: 0.00390\n",
            "128 0.01 adam\n",
            "Testing Loss: 0.00439\n",
            "128 0.01 rmsprop\n",
            "Testing Loss: 0.00570\n",
            "128 0.01 rmsprop\n",
            "Testing Loss: 0.00385\n",
            "128 0.1 adam\n",
            "Testing Loss: 0.00505\n",
            "128 0.1 adam\n",
            "Testing Loss: 0.00369\n",
            "Iteration 1: Best Cost = 0.00369: Best Solution = [2 0 0]\n",
            "128 0.01 adam\n",
            "Testing Loss: 0.00429\n",
            "128 0.01 sgd\n",
            "Testing Loss: 0.05428\n",
            "64 0.01 adam\n",
            "Testing Loss: 0.00382\n",
            "128 0.01 adam\n",
            "Testing Loss: 0.00392\n",
            "32 0.01 adam\n",
            "Testing Loss: 0.00451\n",
            "64 0.01 adam\n",
            "Testing Loss: 0.00426\n",
            "32 0.001 adam\n",
            "Testing Loss: 0.00551\n",
            "128 0.01 rmsprop\n",
            "Testing Loss: 0.00490\n",
            "64 0.01 rmsprop\n",
            "Testing Loss: 0.00474\n",
            "128 0.001 adam\n",
            "Testing Loss: 0.01028\n",
            "128 0.1 adam\n",
            "Testing Loss: 0.00484\n",
            "128 0.1 adam\n",
            "Testing Loss: 0.00498\n",
            "128 0.1 rmsprop\n",
            "Testing Loss: 0.01392\n",
            "128 0.01 adam\n",
            "Testing Loss: 0.00502\n",
            "128 0.01 adam\n",
            "Testing Loss: 0.00393\n",
            "64 0.01 rmsprop\n",
            "Testing Loss: 0.00554\n",
            "64 0.01 adam\n",
            "Testing Loss: 0.00521\n",
            "128 0.01 adam\n",
            "Testing Loss: 0.00499\n",
            "128 0.01 adam\n",
            "Testing Loss: 0.00407\n",
            "128 0.1 adam\n",
            "Testing Loss: 0.00819\n",
            "Iteration 2: Best Cost = 0.00369: Best Solution = [2 0 0]\n",
            "32 0.01 adam\n",
            "Testing Loss: 0.00505\n",
            "128 0.01 rmsprop\n",
            "Testing Loss: 0.00509\n",
            "32 0.01 adam\n",
            "Testing Loss: 0.00439\n",
            "128 0.01 adam\n",
            "Testing Loss: 0.00471\n",
            "128 0.001 adam\n",
            "Testing Loss: 0.04120\n",
            "128 0.01 adam\n",
            "Testing Loss: 0.00514\n",
            "128 0.1 sgd\n",
            "Testing Loss: 0.00714\n",
            "128 0.01 adam\n",
            "Testing Loss: 0.00469\n",
            "128 0.1 adam\n",
            "Testing Loss: 0.00516\n",
            "128 0.1 adam\n",
            "Testing Loss: 0.00417\n",
            "32 0.01 adam\n",
            "Testing Loss: 0.00497\n",
            "128 0.001 adam\n",
            "Testing Loss: 0.01708\n",
            "128 0.01 adam\n",
            "Testing Loss: 0.00572\n",
            "128 0.01 adam\n",
            "Testing Loss: 0.00397\n",
            "128 0.01 adam\n",
            "Testing Loss: 0.00412\n",
            "128 0.01 adam\n",
            "Testing Loss: 0.00405\n",
            "128 0.1 adam\n",
            "Testing Loss: 0.00428\n",
            "64 0.01 rmsprop\n",
            "Testing Loss: 0.00391\n",
            "128 0.1 adam\n",
            "Testing Loss: 0.00467\n",
            "128 0.01 adam\n",
            "Testing Loss: 0.00421\n",
            "Iteration 3: Best Cost = 0.00369: Best Solution = [2 0 0]\n",
            "32 0.01 adam\n",
            "Testing Loss: 0.00534\n",
            "128 0.001 rmsprop\n",
            "Testing Loss: 0.00960\n",
            "128 0.01 adam\n",
            "Testing Loss: 0.00463\n",
            "128 0.01 adam\n",
            "Testing Loss: 0.00399\n",
            "64 0.01 rmsprop\n",
            "Testing Loss: 0.00591\n",
            "64 0.01 rmsprop\n",
            "Testing Loss: 0.00410\n",
            "128 0.01 adam\n",
            "Testing Loss: 0.00616\n",
            "64 0.01 sgd\n",
            "Testing Loss: 0.03363\n",
            "128 0.01 sgd\n",
            "Testing Loss: 0.03024\n",
            "128 0.01 adam\n",
            "Testing Loss: 0.00453\n",
            "128 0.01 adam\n",
            "Testing Loss: 0.00403\n",
            "128 0.1 rmsprop\n",
            "Testing Loss: 0.01428\n",
            "128 0.01 adam\n",
            "Testing Loss: 0.00492\n",
            "128 0.01 adam\n",
            "Testing Loss: 0.00393\n",
            "128 0.01 rmsprop\n",
            "Testing Loss: 0.00422\n",
            "128 0.01 adam\n",
            "Testing Loss: 0.00562\n",
            "128 0.1 adam\n",
            "Testing Loss: 0.00402\n",
            "64 0.1 adam\n",
            "Testing Loss: 0.00291\n",
            "128 0.01 rmsprop\n",
            "Testing Loss: 0.00422\n",
            "128 0.01 adam\n",
            "Testing Loss: 0.00504\n",
            "Iteration 4: Best Cost = 0.00291: Best Solution = [1 0 0]\n",
            "128 0.1 adam\n",
            "Testing Loss: 0.00399\n",
            "128 0.01 rmsprop\n",
            "Testing Loss: 0.00509\n",
            "128 0.01 adam\n",
            "Testing Loss: 0.00456\n",
            "128 0.01 rmsprop\n",
            "Testing Loss: 0.00441\n",
            "128 0.001 adam\n",
            "Testing Loss: 0.01260\n",
            "128 0.01 adam\n",
            "Testing Loss: 0.00404\n",
            "128 0.01 adam\n",
            "Testing Loss: 0.00377\n",
            "128 0.01 rmsprop\n",
            "Testing Loss: 0.00446\n",
            "64 0.01 adam\n",
            "Testing Loss: 0.00433\n",
            "128 0.01 rmsprop\n",
            "Testing Loss: 0.00503\n",
            "128 0.01 adam\n",
            "Testing Loss: 0.00493\n",
            "128 0.1 sgd\n",
            "Testing Loss: 0.00808\n",
            "128 0.01 adam\n",
            "Testing Loss: 0.00462\n",
            "128 0.01 adam\n",
            "Testing Loss: 0.00466\n",
            "128 0.1 adam\n",
            "Testing Loss: 0.00436\n",
            "128 0.01 rmsprop\n",
            "Testing Loss: 0.00437\n",
            "128 0.01 adam\n",
            "Testing Loss: 0.00408\n",
            "128 0.01 adam\n",
            "Testing Loss: 0.00519\n",
            "128 0.01 rmsprop\n",
            "Testing Loss: 0.00540\n",
            "64 0.01 adam\n",
            "Testing Loss: 0.00380\n",
            "Iteration 5: Best Cost = 0.00291: Best Solution = [1 0 0]\n",
            "128 0.01 adam\n",
            "Testing Loss: 0.00472\n",
            "128 0.001 adam\n",
            "Testing Loss: 0.00935\n",
            "128 0.01 adam\n",
            "Testing Loss: 0.00471\n",
            "128 0.01 adam\n",
            "Testing Loss: 0.00469\n",
            "128 0.01 adam\n",
            "Testing Loss: 0.00461\n",
            "128 0.01 rmsprop\n",
            "Testing Loss: 0.00419\n",
            "64 0.01 adam\n",
            "Testing Loss: 0.00471\n",
            "128 0.01 adam\n",
            "Testing Loss: 0.00401\n",
            "128 0.01 adam\n",
            "Testing Loss: 0.00561\n",
            "128 0.01 adam\n",
            "Testing Loss: 0.00381\n",
            "128 0.1 adam\n",
            "Testing Loss: 0.00499\n",
            "128 0.1 adam\n",
            "Testing Loss: 0.00512\n",
            "128 0.1 adam\n",
            "Testing Loss: 0.00403\n",
            "64 0.1 adam\n",
            "Testing Loss: 0.00401\n",
            "128 0.01 adam\n",
            "Testing Loss: 0.00496\n",
            "64 0.01 adam\n",
            "Testing Loss: 0.00444\n",
            "128 0.01 rmsprop\n",
            "Testing Loss: 0.00500\n",
            "64 0.01 adam\n",
            "Testing Loss: 0.00489\n",
            "128 0.01 adam\n",
            "Testing Loss: 0.00385\n",
            "128 0.01 adam\n",
            "Testing Loss: 0.00392\n",
            "Iteration 6: Best Cost = 0.00291: Best Solution = [1 0 0]\n",
            "128 0.1 adam\n",
            "Testing Loss: 0.00387\n",
            "128 0.1 rmsprop\n",
            "Testing Loss: 0.01393\n",
            "32 0.01 adam\n",
            "Testing Loss: 0.00484\n",
            "128 0.01 adam\n",
            "Testing Loss: 0.00429\n",
            "128 0.01 adam\n",
            "Testing Loss: 0.00392\n",
            "128 0.01 adam\n",
            "Testing Loss: 0.00477\n",
            "64 0.01 adam\n",
            "Testing Loss: 0.00396\n",
            "128 0.1 sgd\n",
            "Testing Loss: 0.00637\n",
            "64 0.01 adam\n",
            "Testing Loss: 0.00507\n",
            "64 0.01 rmsprop\n",
            "Testing Loss: 0.00548\n",
            "128 0.01 rmsprop\n",
            "Testing Loss: 0.00541\n",
            "128 0.1 adam\n",
            "Testing Loss: 0.00613\n",
            "128 0.01 sgd\n",
            "Testing Loss: 0.04927\n",
            "64 0.1 adam\n",
            "Testing Loss: 0.00419\n",
            "128 0.01 sgd\n",
            "Testing Loss: 0.03175\n",
            "128 0.01 adam\n",
            "Testing Loss: 0.00378\n",
            "128 0.01 adam\n",
            "Testing Loss: 0.00376\n",
            "64 0.1 adam\n",
            "Testing Loss: 0.00419\n",
            "128 0.001 adam\n",
            "Testing Loss: 0.01294\n",
            "128 0.01 adam\n",
            "Testing Loss: 0.00503\n",
            "Iteration 7: Best Cost = 0.00291: Best Solution = [1 0 0]\n",
            "32 0.1 adam\n",
            "Testing Loss: 0.00456\n",
            "128 0.001 adam\n",
            "Testing Loss: 0.01101\n",
            "128 0.01 adam\n",
            "Testing Loss: 0.00380\n",
            "128 0.01 adam\n",
            "Testing Loss: 0.00449\n",
            "128 0.01 adam\n",
            "Testing Loss: 0.00476\n",
            "128 0.01 adam\n",
            "Testing Loss: 0.00363\n",
            "128 0.1 adam\n",
            "Testing Loss: 0.00455\n",
            "128 0.01 adam\n",
            "Testing Loss: 0.00413\n",
            "128 0.01 adam\n",
            "Testing Loss: 0.00398\n",
            "128 0.001 adam\n",
            "Testing Loss: 0.00661\n",
            "64 0.01 adam\n",
            "Testing Loss: 0.00467\n",
            "128 0.01 adam\n",
            "Testing Loss: 0.00489\n",
            "64 0.01 adam\n",
            "Testing Loss: 0.00367\n",
            "128 0.1 adam\n",
            "Testing Loss: 0.00412\n",
            "128 0.01 adam\n",
            "Testing Loss: 0.00418\n",
            "128 0.001 adam\n",
            "Testing Loss: 0.01969\n",
            "128 0.1 adam\n",
            "Testing Loss: 0.00483\n",
            "128 0.01 adam\n",
            "Testing Loss: 0.00483\n",
            "64 0.01 adam\n",
            "Testing Loss: 0.00447\n",
            "64 0.01 adam\n",
            "Testing Loss: 0.00461\n",
            "Iteration 8: Best Cost = 0.00291: Best Solution = [1 0 0]\n",
            "128 0.01 adam\n",
            "Testing Loss: 0.00486\n",
            "64 0.01 adam\n",
            "Testing Loss: 0.00418\n",
            "128 0.01 adam\n",
            "Testing Loss: 0.00574\n",
            "128 0.01 adam\n",
            "Testing Loss: 0.00467\n",
            "64 0.01 adam\n",
            "Testing Loss: 0.00500\n",
            "128 0.01 rmsprop\n",
            "Testing Loss: 0.00465\n",
            "32 0.01 adam\n",
            "Testing Loss: 0.00482\n",
            "64 0.01 sgd\n",
            "Testing Loss: 0.04206\n",
            "128 0.01 rmsprop\n",
            "Testing Loss: 0.00529\n",
            "128 0.01 adam\n",
            "Testing Loss: 0.00434\n",
            "64 0.01 rmsprop\n",
            "Testing Loss: 0.00491\n",
            "64 0.1 adam\n",
            "Testing Loss: 0.00504\n",
            "32 0.001 adam\n",
            "Testing Loss: 0.00406\n",
            "128 0.1 adam\n",
            "Testing Loss: 0.00352\n",
            "128 0.01 sgd\n",
            "Testing Loss: 0.05226\n",
            "32 0.1 adam\n",
            "Testing Loss: 0.00574\n",
            "64 0.01 adam\n",
            "Testing Loss: 0.00454\n",
            "128 0.01 adam\n",
            "Testing Loss: 0.00440\n",
            "128 0.01 adam\n",
            "Testing Loss: 0.00558\n",
            "128 0.1 adam\n",
            "Testing Loss: 0.00390\n",
            "Iteration 9: Best Cost = 0.00291: Best Solution = [1 0 0]\n",
            "32 0.01 adam\n",
            "Testing Loss: 0.00484\n",
            "64 0.001 rmsprop\n",
            "Testing Loss: 0.00367\n",
            "128 0.01 adam\n",
            "Testing Loss: 0.00527\n",
            "128 0.1 adam\n",
            "Testing Loss: 0.00427\n",
            "64 0.01 adam\n",
            "Testing Loss: 0.00392\n",
            "128 0.01 adam\n",
            "Testing Loss: 0.00470\n",
            "128 0.1 adam\n",
            "Testing Loss: 0.00421\n",
            "128 0.01 adam\n",
            "Testing Loss: 0.00397\n",
            "128 0.01 adam\n",
            "Testing Loss: 0.00450\n",
            "64 0.01 sgd\n",
            "Testing Loss: 0.03221\n",
            "64 0.01 adam\n",
            "Testing Loss: 0.00492\n",
            "64 0.01 adam\n",
            "Testing Loss: 0.00403\n",
            "64 0.1 sgd\n",
            "Testing Loss: 0.01134\n",
            "128 0.01 adam\n",
            "Testing Loss: 0.00543\n",
            "128 0.01 adam\n",
            "Testing Loss: 0.00361\n",
            "128 0.1 rmsprop\n",
            "Testing Loss: 0.00879\n",
            "128 0.01 rmsprop\n",
            "Testing Loss: 0.00548\n",
            "64 0.01 adam\n",
            "Testing Loss: 0.00424\n",
            "128 0.01 adam\n",
            "Testing Loss: 0.00438\n",
            "128 0.01 adam\n",
            "Testing Loss: 0.00440\n",
            "Iteration 10: Best Cost = 0.00291: Best Solution = [1 0 0]\n"
          ]
        },
        {
          "output_type": "display_data",
          "data": {
            "text/plain": [
              "<Figure size 432x288 with 1 Axes>"
            ],
            "image/png": "[encoded data removed]"
          },
          "metadata": {
            "needs_background": "light"
          }
        }
      ]
    },
    {
      "cell_type": "markdown",
      "source": [
        "#### Results Analysis\n",
        "\n",
        "(1) Our purpose is to find a set of hyperparameters that can be used to train the LSTM model with the lowest loss value on the test set.\n",
        "\n",
        "(2) As we can see from the diagram above, after training for 10 iterations, the loss value decreases to 0.0030, demonstrating the effectiveness of our genetic algorithm.\n",
        "\n",
        "(3) The best batch size is 64, which is quite fitting for this dataset since it's not too small or large.\n",
        "\n",
        "(4) The best learning rate is 0.1. This result is a bit surprising since 0.1 is a large value for the learning rate. We explain that our dataset is small and pre-processed. Therefore, the LSTM network can easily approximate the distribution of the data and find the optimal solution. When the dataset becomes larger and more diverse, a smaller learning rate would be better.\n",
        "\n",
        "(5) The best optimizer is Adam. Adam optimized is insensitive to the learning rate. Therefore, it has been widely used in many deep learning models as a default optimizer."
      ],
      "metadata": {
        "id": "aEJe2breIajL"
      }
    },
    {
      "cell_type": "code",
      "source": [
        ""
      ],
      "metadata": {
        "id": "5yUvHo48KLh1"
      },
      "execution_count": null,
      "outputs": []
    }
  ]
}