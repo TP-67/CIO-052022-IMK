{
 "cells": [
  {
   "cell_type": "code",
   "execution_count": 1,
   "id": "b613870f-5622-4b1c-927c-7b8f3bc8eac3",
   "metadata": {},
   "outputs": [],
   "source": [
    "import pandas as pd\n",
    "import numpy as np\n",
    "\n",
    "from numbers import Number"
   ]
  },
  {
   "cell_type": "markdown",
   "id": "10d4b9a4-d8c6-460e-a364-15a9437435aa",
   "metadata": {},
   "source": [
    "### EXERCISE 1 & 2"
   ]
  },
  {
   "cell_type": "code",
   "execution_count": 2,
   "id": "650c48bf-35c8-4787-a2c3-2982a2d816e6",
   "metadata": {},
   "outputs": [
    {
     "name": "stdout",
     "output_type": "stream",
     "text": [
      "The summary of each column is:  ['Not summable' 'Not summable' 'Not summable' 'Not summable' '2121'\n",
      " '873.27' '19627.88']\n",
      "The average of each column is:  ['Not summable' 'Not summable' 'Not summable' 'Not summable' '49.33'\n",
      " '20.31' '456.46']\n"
     ]
    }
   ],
   "source": [
    "# Load the data from .xlsx file\n",
    "df = pd.read_excel('./SampleData.xlsx')\n",
    "# Store the data in Numpy Array.\n",
    "data = df.to_numpy()\n",
    "\n",
    "# Define Sum function\n",
    "def selectiveSum(numList):\n",
    "    if isinstance(numList[0], Number):\n",
    "        return round(sum(numList), 2)\n",
    "    else:\n",
    "        return 'Not summable'\n",
    "\n",
    "# Define Ave function\n",
    "def selectiveAve(numList):\n",
    "    if isinstance(numList[0], Number):\n",
    "        return round(sum(numList) / len(numList), 2)\n",
    "    else:\n",
    "        return 'Not summable'\n",
    "\n",
    "# Compute the Sum and Ave\n",
    "output_sum = np.apply_along_axis(selectiveSum, 0, data)\n",
    "output_ave = np.apply_along_axis(selectiveAve, 0, data)\n",
    "\n",
    "# Print resutls\n",
    "print('The summary of each column is: ', output_sum)\n",
    "print('The average of each column is: ', output_ave)"
   ]
  },
  {
   "cell_type": "markdown",
   "id": "8ed36ae2-a174-44f7-8d59-b25e904fd514",
   "metadata": {},
   "source": [
    "### EXERCISE 4"
   ]
  },
  {
   "cell_type": "code",
   "execution_count": 3,
   "id": "8fdf1326-df84-4f7c-b98d-a5975c9e0230",
   "metadata": {},
   "outputs": [
    {
     "name": "stdout",
     "output_type": "stream",
     "text": [
      "The summary of each column in Canada is: ['Not summable' 'Not summable' 'Not summable' 'Not summable' '247428.5'\n",
      " '13150' '16580' '26932163.5' '2044508.61' '24887654.89' '21358426.0'\n",
      " '3529228.89' 'Not summable' '1106' 'Not summable' '281925']\n",
      "The average of each column in Canada is: ['Not summable' 'Not summable' 'Not summable' 'Not summable' '1767.35'\n",
      " '93.93' '118.43' '192372.6' '14603.63' '177768.96' '152560.19' '25208.78'\n",
      " 'Not summable' '7.9' 'Not summable' '2013.75']\n",
      "The summary of each column in France is: ['Not summable' 'Not summable' 'Not summable' 'Not summable' '240931.0'\n",
      " '13374' '16580' '26081674.5' '1727502.22' '24354172.28' '20573151.5'\n",
      " '3781020.78' 'Not summable' '1106' 'Not summable' '281925']\n",
      "The average of each column in France is: ['Not summable' 'Not summable' 'Not summable' 'Not summable' '1720.94'\n",
      " '95.53' '118.43' '186297.67' '12339.3' '173958.37' '146951.08' '27007.29'\n",
      " 'Not summable' '7.9' 'Not summable' '2013.75']\n",
      "The summary of each column in Germany is: ['Not summable' 'Not summable' 'Not summable' 'Not summable' '201494.0'\n",
      " '13370' '16580' '24921467.5' '1416126.68' '23505340.82' '19824952.0'\n",
      " '3680388.82' 'Not summable' '1106' 'Not summable' '281925']\n",
      "The average of each column in Germany is: ['Not summable' 'Not summable' 'Not summable' 'Not summable' '1439.24'\n",
      " '95.5' '118.43' '178010.48' '10115.19' '167895.29' '141606.8' '26288.49'\n",
      " 'Not summable' '7.9' 'Not summable' '2013.75']\n",
      "The summary of each column in Mexico is: ['Not summable' 'Not summable' 'Not summable' 'Not summable' '203325.0'\n",
      " '13394' '16580' '22726935.0' '1777582.89' '20949352.11' '18041829.0'\n",
      " '2907523.11' 'Not summable' '1106' 'Not summable' '281925']\n",
      "The average of each column in Mexico is: ['Not summable' 'Not summable' 'Not summable' 'Not summable' '1452.32'\n",
      " '95.67' '118.43' '162335.25' '12697.02' '149638.23' '128870.21'\n",
      " '20768.02' 'Not summable' '7.9' 'Not summable' '2013.75']\n",
      "The summary of each column in United States of America is: ['Not summable' 'Not summable' 'Not summable' 'Not summable' '232627.5'\n",
      " '14246' '16580' '27269358.0' '2239527.83' '25029830.17' '22034289.5'\n",
      " '2995540.66' 'Not summable' '1106' 'Not summable' '281925']\n",
      "The average of each column in United States of America is: ['Not summable' 'Not summable' 'Not summable' 'Not summable' '1661.62'\n",
      " '101.76' '118.43' '194781.13' '15996.63' '178784.5' '157387.78'\n",
      " '21396.72' 'Not summable' '7.9' 'Not summable' '2013.75']\n"
     ]
    }
   ],
   "source": [
    "# Load the data from .xlsx file\n",
    "df = pd.read_excel('./FinancialSample.xlsx')\n",
    "# Store the data in Numpy Array.\n",
    "data = df.to_numpy()\n",
    "\n",
    "# Define Sum function\n",
    "def selectiveSum(numList):\n",
    "    if isinstance(numList[0], Number):\n",
    "        return round(sum(numList), 2)\n",
    "    else:\n",
    "        return 'Not summable'\n",
    "\n",
    "# Define Ave function\n",
    "def selectiveAve(numList):\n",
    "    if isinstance(numList[0], Number):\n",
    "        return round(sum(numList) / len(numList), 2)\n",
    "    else:\n",
    "        return 'Not summable'\n",
    "\n",
    "# Get all countries\n",
    "countries = np.unique(data[:, 1])\n",
    "# Group data by country\n",
    "for i in countries:\n",
    "    # Get all y-axis indexes that belong to the same country\n",
    "    index = np.where(data[:, 1] == i)\n",
    "    \n",
    "    # Compute the Sum and Ave\n",
    "    output_sum = np.apply_along_axis(selectiveSum, 0, data[index])\n",
    "    output_ave = np.apply_along_axis(selectiveAve, 0, data[index])\n",
    "\n",
    "    # Print resutls\n",
    "    print('The summary of each column in %s is:' %(i), output_sum)\n",
    "    print('The average of each column in %s is:' %(i), output_ave)"
   ]
  },
  {
   "cell_type": "code",
   "execution_count": null,
   "id": "9fdc25ee-90e9-4bb3-a160-e97285103c80",
   "metadata": {},
   "outputs": [],
   "source": []
  }
 ],
 "metadata": {
  "kernelspec": {
   "display_name": "Python 3 (ipykernel)",
   "language": "python",
   "name": "python3"
  },
  "language_info": {
   "codemirror_mode": {
    "name": "ipython",
    "version": 3
   },
   "file_extension": ".py",
   "mimetype": "text/x-python",
   "name": "python",
   "nbconvert_exporter": "python",
   "pygments_lexer": "ipython3",
   "version": "3.7.11"
  }
 },
 "nbformat": 4,
 "nbformat_minor": 5
}
